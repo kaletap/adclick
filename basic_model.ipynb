{
 "cells": [
  {
   "cell_type": "code",
   "execution_count": 1,
   "metadata": {},
   "outputs": [],
   "source": [
    "import pandas as pd\n",
    "import matplotlib.pyplot as plt; plt.style.use(\"fivethirtyeight\")\n",
    "from sklearn.linear_model import LogisticRegression\n",
    "from sklearn.model_selection import train_test_split\n",
    "from sklearn.metrics import plot_roc_curve, plot_precision_recall_curve"
   ]
  },
  {
   "cell_type": "code",
   "execution_count": 2,
   "metadata": {},
   "outputs": [
    {
     "data": {
      "text/html": [
       "<div>\n",
       "<style scoped>\n",
       "    .dataframe tbody tr th:only-of-type {\n",
       "        vertical-align: middle;\n",
       "    }\n",
       "\n",
       "    .dataframe tbody tr th {\n",
       "        vertical-align: top;\n",
       "    }\n",
       "\n",
       "    .dataframe thead th {\n",
       "        text-align: right;\n",
       "    }\n",
       "</style>\n",
       "<table border=\"1\" class=\"dataframe\">\n",
       "  <thead>\n",
       "    <tr style=\"text-align: right;\">\n",
       "      <th></th>\n",
       "      <th>Click</th>\n",
       "      <th>DisplayURL</th>\n",
       "      <th>AdId</th>\n",
       "      <th>AdvertiserId</th>\n",
       "      <th>Depth</th>\n",
       "      <th>Position</th>\n",
       "      <th>UserID</th>\n",
       "      <th>Gender</th>\n",
       "      <th>Age</th>\n",
       "      <th>AdKeyword_tokens</th>\n",
       "      <th>AdTitle_tokens</th>\n",
       "      <th>AdDescription_tokens</th>\n",
       "      <th>Query_tokens</th>\n",
       "    </tr>\n",
       "  </thead>\n",
       "  <tbody>\n",
       "    <tr>\n",
       "      <th>0</th>\n",
       "      <td>0</td>\n",
       "      <td>4298118681424644510</td>\n",
       "      <td>7686695</td>\n",
       "      <td>385</td>\n",
       "      <td>3</td>\n",
       "      <td>3</td>\n",
       "      <td>490234</td>\n",
       "      <td>1</td>\n",
       "      <td>3</td>\n",
       "      <td>4133|95|17</td>\n",
       "      <td>4133|95|17|0|4732|95|146|4079</td>\n",
       "      <td>8|81|123|205|2|95|26|95|60|32|1|17|146|1|991|3...</td>\n",
       "      <td>4133</td>\n",
       "    </tr>\n",
       "    <tr>\n",
       "      <th>1</th>\n",
       "      <td>0</td>\n",
       "      <td>13677630321509009335</td>\n",
       "      <td>3517124</td>\n",
       "      <td>23778</td>\n",
       "      <td>3</td>\n",
       "      <td>1</td>\n",
       "      <td>490234</td>\n",
       "      <td>1</td>\n",
       "      <td>3</td>\n",
       "      <td>4133</td>\n",
       "      <td>145|65|3927|832|93</td>\n",
       "      <td>3683|4990|2793|11589|21|10741|26|16044|26|3168...</td>\n",
       "      <td>4133</td>\n",
       "    </tr>\n",
       "    <tr>\n",
       "      <th>2</th>\n",
       "      <td>0</td>\n",
       "      <td>11689327222955583742</td>\n",
       "      <td>21021375</td>\n",
       "      <td>27701</td>\n",
       "      <td>3</td>\n",
       "      <td>2</td>\n",
       "      <td>490234</td>\n",
       "      <td>1</td>\n",
       "      <td>3</td>\n",
       "      <td>4133</td>\n",
       "      <td>4133|95|1|339|125|21|83093</td>\n",
       "      <td>726|50|2218|1533|2275|4133|1299|509|95|2072|1|...</td>\n",
       "      <td>4133</td>\n",
       "    </tr>\n",
       "    <tr>\n",
       "      <th>3</th>\n",
       "      <td>0</td>\n",
       "      <td>4298118681424644510</td>\n",
       "      <td>7686695</td>\n",
       "      <td>385</td>\n",
       "      <td>1</td>\n",
       "      <td>1</td>\n",
       "      <td>16960371</td>\n",
       "      <td>2</td>\n",
       "      <td>2</td>\n",
       "      <td>4133|95|17</td>\n",
       "      <td>4133|95|17|0|4732|95|146|4079</td>\n",
       "      <td>8|81|123|205|2|95|26|95|60|32|1|17|146|1|991|3...</td>\n",
       "      <td>4133|4942</td>\n",
       "    </tr>\n",
       "    <tr>\n",
       "      <th>4</th>\n",
       "      <td>0</td>\n",
       "      <td>15132506310926074459</td>\n",
       "      <td>4424000</td>\n",
       "      <td>20940</td>\n",
       "      <td>1</td>\n",
       "      <td>1</td>\n",
       "      <td>3524325</td>\n",
       "      <td>1</td>\n",
       "      <td>3</td>\n",
       "      <td>121|4133|95</td>\n",
       "      <td>121|4133|95|8762|3957|4563|2233|192|28|138|3</td>\n",
       "      <td>62|1162|570|8|4133|95|1|81|102|1155|650|1255|1...</td>\n",
       "      <td>4133|4942</td>\n",
       "    </tr>\n",
       "  </tbody>\n",
       "</table>\n",
       "</div>"
      ],
      "text/plain": [
       "   Click            DisplayURL      AdId  AdvertiserId  Depth  Position  \\\n",
       "0      0   4298118681424644510   7686695           385      3         3   \n",
       "1      0  13677630321509009335   3517124         23778      3         1   \n",
       "2      0  11689327222955583742  21021375         27701      3         2   \n",
       "3      0   4298118681424644510   7686695           385      1         1   \n",
       "4      0  15132506310926074459   4424000         20940      1         1   \n",
       "\n",
       "     UserID  Gender  Age AdKeyword_tokens  \\\n",
       "0    490234       1    3       4133|95|17   \n",
       "1    490234       1    3             4133   \n",
       "2    490234       1    3             4133   \n",
       "3  16960371       2    2       4133|95|17   \n",
       "4   3524325       1    3      121|4133|95   \n",
       "\n",
       "                                 AdTitle_tokens  \\\n",
       "0                 4133|95|17|0|4732|95|146|4079   \n",
       "1                            145|65|3927|832|93   \n",
       "2                    4133|95|1|339|125|21|83093   \n",
       "3                 4133|95|17|0|4732|95|146|4079   \n",
       "4  121|4133|95|8762|3957|4563|2233|192|28|138|3   \n",
       "\n",
       "                                AdDescription_tokens Query_tokens  \n",
       "0  8|81|123|205|2|95|26|95|60|32|1|17|146|1|991|3...         4133  \n",
       "1  3683|4990|2793|11589|21|10741|26|16044|26|3168...         4133  \n",
       "2  726|50|2218|1533|2275|4133|1299|509|95|2072|1|...         4133  \n",
       "3  8|81|123|205|2|95|26|95|60|32|1|17|146|1|991|3...    4133|4942  \n",
       "4  62|1162|570|8|4133|95|1|81|102|1155|650|1255|1...    4133|4942  "
      ]
     },
     "execution_count": 2,
     "metadata": {},
     "output_type": "execute_result"
    }
   ],
   "source": [
    "data = pd.read_csv(\"data/D100k.tsv\", sep=\"\\t\")\n",
    "data.head()"
   ]
  },
  {
   "cell_type": "code",
   "execution_count": 4,
   "metadata": {},
   "outputs": [],
   "source": [
    "predictors = [\"Depth\", \"Position\", \"Gender\", \"Age\"]\n",
    "predicted = \"Click\"\n",
    "x_train, x_test, y_train, y_test = train_test_split(data[predictors], data[predicted])"
   ]
  },
  {
   "cell_type": "code",
   "execution_count": 5,
   "metadata": {},
   "outputs": [
    {
     "data": {
      "text/plain": [
       "LogisticRegression()"
      ]
     },
     "execution_count": 5,
     "metadata": {},
     "output_type": "execute_result"
    }
   ],
   "source": [
    "lr = LogisticRegression()\n",
    "lr.fit(x_train, y_train)"
   ]
  },
  {
   "cell_type": "code",
   "execution_count": 8,
   "metadata": {},
   "outputs": [
    {
     "data": {
      "image/png": "[encoded data removed]",
      "text/plain": [
       "<Figure size 432x288 with 1 Axes>"
      ]
     },
     "metadata": {},
     "output_type": "display_data"
    }
   ],
   "source": [
    "plot_roc_curve(lr, x_test, y_test);"
   ]
  },
  {
   "cell_type": "code",
   "execution_count": 10,
   "metadata": {},
   "outputs": [
    {
     "data": {
      "image/png": "[encoded data removed]",
      "text/plain": [
       "<Figure size 432x288 with 1 Axes>"
      ]
     },
     "metadata": {},
     "output_type": "display_data"
    }
   ],
   "source": [
    "plot_precision_recall_curve(lr, x_test, y_test)\n",
    "plt.legend(\"off\");"
   ]
  },
  {
   "cell_type": "markdown",
   "metadata": {},
   "source": [
    "#### A bunch of questions\n",
    "* What if we increase the size? How train size influences performance? How much we can improve with that? Is it worth it to process all data?\n",
    "* What if we increase complexity of a model? Then, we probably need more data not to overfit, but can I gain intuition how overfitting works? Probably will need to do a bunch of experiment and store results somewhere.\n",
    "* How to create data pipeline in tensorflow?\n",
    "* How to extract meaningful information from text columns and other columns?"
   ]
  }
 ],
 "metadata": {
  "kernelspec": {
   "display_name": "adclick",
   "language": "python",
   "name": "adclick"
  },
  "language_info": {
   "codemirror_mode": {
    "name": "ipython",
    "version": 3
   },
   "file_extension": ".py",
   "mimetype": "text/x-python",
   "name": "python",
   "nbconvert_exporter": "python",
   "pygments_lexer": "ipython3",
   "version": "3.6.9"
  }
 },
 "nbformat": 4,
 "nbformat_minor": 4
}
