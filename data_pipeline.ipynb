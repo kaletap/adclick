{
 "cells": [
  {
   "cell_type": "markdown",
   "metadata": {},
   "source": [
    "# Data transformations\n",
    "Assumption: the whole data won't fit into memory. We need to iterate over it in chunks.\n",
    "\n",
    "We have three types of variables:\n",
    "* **simple** (numerical)\n",
    "* **IDs** (discrete, with huge number of categories)\n",
    "* **text tokens** (sequence of discrete tokens). We may or may not do TFIDF or something similar, but we would need to precompute some statistics first.\n",
    "\n",
    "## Overview\n",
    "\n",
    "No need to transform basic variables, all are numerical: gender, age, depth, position.\n",
    "\n",
    "Let's create dataset from these four alone. This will serve as a **baseline**.\n",
    "\n",
    "We may want to separate baseline data transformation and baseline model. The most important will probably be data transformation, since it will influence the way we build a model."
   ]
  },
  {
   "cell_type": "code",
   "execution_count": 129,
   "metadata": {},
   "outputs": [],
   "source": [
    "import tensorflow as tf\n",
    "import tensorflow.keras as keras\n",
    "import pandas as pd\n",
    "from collections import OrderedDict"
   ]
  },
  {
   "cell_type": "code",
   "execution_count": 130,
   "metadata": {},
   "outputs": [
    {
     "data": {
      "text/plain": [
       "'2.2.0'"
      ]
     },
     "execution_count": 130,
     "metadata": {},
     "output_type": "execute_result"
    }
   ],
   "source": [
    "tf.__version__"
   ]
  },
  {
   "cell_type": "code",
   "execution_count": 131,
   "metadata": {},
   "outputs": [
    {
     "data": {
      "text/html": [
       "<div>\n",
       "<style scoped>\n",
       "    .dataframe tbody tr th:only-of-type {\n",
       "        vertical-align: middle;\n",
       "    }\n",
       "\n",
       "    .dataframe tbody tr th {\n",
       "        vertical-align: top;\n",
       "    }\n",
       "\n",
       "    .dataframe thead th {\n",
       "        text-align: right;\n",
       "    }\n",
       "</style>\n",
       "<table border=\"1\" class=\"dataframe\">\n",
       "  <thead>\n",
       "    <tr style=\"text-align: right;\">\n",
       "      <th></th>\n",
       "      <th>Click</th>\n",
       "      <th>DisplayURL</th>\n",
       "      <th>AdId</th>\n",
       "      <th>AdvertiserId</th>\n",
       "      <th>Depth</th>\n",
       "      <th>Position</th>\n",
       "      <th>UserID</th>\n",
       "      <th>Gender</th>\n",
       "      <th>Age</th>\n",
       "      <th>AdKeyword_tokens</th>\n",
       "      <th>AdTitle_tokens</th>\n",
       "      <th>AdDescription_tokens</th>\n",
       "      <th>Query_tokens</th>\n",
       "    </tr>\n",
       "  </thead>\n",
       "  <tbody>\n",
       "    <tr>\n",
       "      <th>0</th>\n",
       "      <td>0</td>\n",
       "      <td>4298118681424644510</td>\n",
       "      <td>7686695</td>\n",
       "      <td>385</td>\n",
       "      <td>3</td>\n",
       "      <td>3</td>\n",
       "      <td>490234</td>\n",
       "      <td>1</td>\n",
       "      <td>3</td>\n",
       "      <td>4133|95|17</td>\n",
       "      <td>4133|95|17|0|4732|95|146|4079</td>\n",
       "      <td>8|81|123|205|2|95|26|95|60|32|1|17|146|1|991|3...</td>\n",
       "      <td>4133</td>\n",
       "    </tr>\n",
       "    <tr>\n",
       "      <th>1</th>\n",
       "      <td>0</td>\n",
       "      <td>13677630321509009335</td>\n",
       "      <td>3517124</td>\n",
       "      <td>23778</td>\n",
       "      <td>3</td>\n",
       "      <td>1</td>\n",
       "      <td>490234</td>\n",
       "      <td>1</td>\n",
       "      <td>3</td>\n",
       "      <td>4133</td>\n",
       "      <td>145|65|3927|832|93</td>\n",
       "      <td>3683|4990|2793|11589|21|10741|26|16044|26|3168...</td>\n",
       "      <td>4133</td>\n",
       "    </tr>\n",
       "    <tr>\n",
       "      <th>2</th>\n",
       "      <td>0</td>\n",
       "      <td>11689327222955583742</td>\n",
       "      <td>21021375</td>\n",
       "      <td>27701</td>\n",
       "      <td>3</td>\n",
       "      <td>2</td>\n",
       "      <td>490234</td>\n",
       "      <td>1</td>\n",
       "      <td>3</td>\n",
       "      <td>4133</td>\n",
       "      <td>4133|95|1|339|125|21|83093</td>\n",
       "      <td>726|50|2218|1533|2275|4133|1299|509|95|2072|1|...</td>\n",
       "      <td>4133</td>\n",
       "    </tr>\n",
       "    <tr>\n",
       "      <th>3</th>\n",
       "      <td>0</td>\n",
       "      <td>4298118681424644510</td>\n",
       "      <td>7686695</td>\n",
       "      <td>385</td>\n",
       "      <td>1</td>\n",
       "      <td>1</td>\n",
       "      <td>16960371</td>\n",
       "      <td>2</td>\n",
       "      <td>2</td>\n",
       "      <td>4133|95|17</td>\n",
       "      <td>4133|95|17|0|4732|95|146|4079</td>\n",
       "      <td>8|81|123|205|2|95|26|95|60|32|1|17|146|1|991|3...</td>\n",
       "      <td>4133|4942</td>\n",
       "    </tr>\n",
       "    <tr>\n",
       "      <th>4</th>\n",
       "      <td>0</td>\n",
       "      <td>15132506310926074459</td>\n",
       "      <td>4424000</td>\n",
       "      <td>20940</td>\n",
       "      <td>1</td>\n",
       "      <td>1</td>\n",
       "      <td>3524325</td>\n",
       "      <td>1</td>\n",
       "      <td>3</td>\n",
       "      <td>121|4133|95</td>\n",
       "      <td>121|4133|95|8762|3957|4563|2233|192|28|138|3</td>\n",
       "      <td>62|1162|570|8|4133|95|1|81|102|1155|650|1255|1...</td>\n",
       "      <td>4133|4942</td>\n",
       "    </tr>\n",
       "  </tbody>\n",
       "</table>\n",
       "</div>"
      ],
      "text/plain": [
       "   Click            DisplayURL      AdId  AdvertiserId  Depth  Position  \\\n",
       "0      0   4298118681424644510   7686695           385      3         3   \n",
       "1      0  13677630321509009335   3517124         23778      3         1   \n",
       "2      0  11689327222955583742  21021375         27701      3         2   \n",
       "3      0   4298118681424644510   7686695           385      1         1   \n",
       "4      0  15132506310926074459   4424000         20940      1         1   \n",
       "\n",
       "     UserID  Gender  Age AdKeyword_tokens  \\\n",
       "0    490234       1    3       4133|95|17   \n",
       "1    490234       1    3             4133   \n",
       "2    490234       1    3             4133   \n",
       "3  16960371       2    2       4133|95|17   \n",
       "4   3524325       1    3      121|4133|95   \n",
       "\n",
       "                                 AdTitle_tokens  \\\n",
       "0                 4133|95|17|0|4732|95|146|4079   \n",
       "1                            145|65|3927|832|93   \n",
       "2                    4133|95|1|339|125|21|83093   \n",
       "3                 4133|95|17|0|4732|95|146|4079   \n",
       "4  121|4133|95|8762|3957|4563|2233|192|28|138|3   \n",
       "\n",
       "                                AdDescription_tokens Query_tokens  \n",
       "0  8|81|123|205|2|95|26|95|60|32|1|17|146|1|991|3...         4133  \n",
       "1  3683|4990|2793|11589|21|10741|26|16044|26|3168...         4133  \n",
       "2  726|50|2218|1533|2275|4133|1299|509|95|2072|1|...         4133  \n",
       "3  8|81|123|205|2|95|26|95|60|32|1|17|146|1|991|3...    4133|4942  \n",
       "4  62|1162|570|8|4133|95|1|81|102|1155|650|1255|1...    4133|4942  "
      ]
     },
     "execution_count": 131,
     "metadata": {},
     "output_type": "execute_result"
    }
   ],
   "source": [
    "data = pd.read_csv(\"data/D100k.tsv\", sep=\"\\t\")\n",
    "data.head()"
   ]
  },
  {
   "cell_type": "code",
   "execution_count": 151,
   "metadata": {},
   "outputs": [],
   "source": [
    "ds = tf.data.experimental.make_csv_dataset(\"data/D100k.tsv\",\n",
    "                                           field_delim=\"\\t\",\n",
    "                                           batch_size=5,  # increase for real work\n",
    "                                           label_name=\"Click\")"
   ]
  },
  {
   "cell_type": "markdown",
   "metadata": {},
   "source": [
    "#### Inspection of batch dataset"
   ]
  },
  {
   "cell_type": "code",
   "execution_count": 152,
   "metadata": {},
   "outputs": [
    {
     "data": {
      "text/plain": [
       "<PrefetchDataset shapes: (OrderedDict([(DisplayURL, (5,)), (AdId, (5,)), (AdvertiserId, (5,)), (Depth, (5,)), (Position, (5,)), (UserID, (5,)), (Gender, (5,)), (Age, (5,)), (AdKeyword_tokens, (5,)), (AdTitle_tokens, (5,)), (AdDescription_tokens, (5,)), (Query_tokens, (5,))]), (5,)), types: (OrderedDict([(DisplayURL, tf.float32), (AdId, tf.int32), (AdvertiserId, tf.int32), (Depth, tf.int32), (Position, tf.int32), (UserID, tf.int32), (Gender, tf.int32), (Age, tf.int32), (AdKeyword_tokens, tf.string), (AdTitle_tokens, tf.string), (AdDescription_tokens, tf.string), (Query_tokens, tf.string)]), tf.int32)>"
      ]
     },
     "execution_count": 152,
     "metadata": {},
     "output_type": "execute_result"
    }
   ],
   "source": [
    "ds"
   ]
  },
  {
   "cell_type": "code",
   "execution_count": 153,
   "metadata": {},
   "outputs": [],
   "source": [
    "x, y = next(iter(ds))"
   ]
  },
  {
   "cell_type": "code",
   "execution_count": 154,
   "metadata": {},
   "outputs": [
    {
     "data": {
      "text/plain": [
       "(OrderedDict([('DisplayURL',\n",
       "               <tf.Tensor: shape=(5,), dtype=float32, numpy=\n",
       "               array([1.0726002e+19, 6.4143073e+18, 1.5785113e+19, 8.9945571e+18,\n",
       "                      7.9039147e+18], dtype=float32)>),\n",
       "              ('AdId',\n",
       "               <tf.Tensor: shape=(5,), dtype=int32, numpy=array([20036558, 21248429, 20908196, 20030150, 21162436], dtype=int32)>),\n",
       "              ('AdvertiserId',\n",
       "               <tf.Tensor: shape=(5,), dtype=int32, numpy=array([23800, 35668, 35088, 23799,  1325], dtype=int32)>),\n",
       "              ('Depth',\n",
       "               <tf.Tensor: shape=(5,), dtype=int32, numpy=array([2, 3, 2, 3, 3], dtype=int32)>),\n",
       "              ('Position',\n",
       "               <tf.Tensor: shape=(5,), dtype=int32, numpy=array([2, 2, 2, 2, 1], dtype=int32)>),\n",
       "              ('UserID',\n",
       "               <tf.Tensor: shape=(5,), dtype=int32, numpy=array([ 5085857,  2641584, 11280635,   872931,  5086026], dtype=int32)>),\n",
       "              ('Gender',\n",
       "               <tf.Tensor: shape=(5,), dtype=int32, numpy=array([1, 1, 1, 2, 1], dtype=int32)>),\n",
       "              ('Age',\n",
       "               <tf.Tensor: shape=(5,), dtype=int32, numpy=array([1, 4, 5, 1, 4], dtype=int32)>),\n",
       "              ('AdKeyword_tokens',\n",
       "               <tf.Tensor: shape=(5,), dtype=string, numpy=\n",
       "               array([b'46|822', b'271|209|158', b'12731', b'1545|75|31', b'9520|48'],\n",
       "                     dtype=object)>),\n",
       "              ('AdTitle_tokens',\n",
       "               <tf.Tensor: shape=(5,), dtype=string, numpy=\n",
       "               array([b'46|822|172|728|579|170|0|2157|55|2|21929|2668',\n",
       "                      b'101|34|36|55|15|11182|271|209|158|94',\n",
       "                      b'12731|190|513|12731|677|183', b'5853|75|31|1|11|834|4358|4136',\n",
       "                      b'45|572|2|9520|48|334|34|271|209|158|3'], dtype=object)>),\n",
       "              ('AdDescription_tokens',\n",
       "               <tf.Tensor: shape=(5,), dtype=string, numpy=\n",
       "               array([b'466|31|172|728|579|170|704|152|169|287|3557|21|24945|127|28766|22887|2|1592|937|1|11931|124|55|19607|3',\n",
       "                      b'2312|33|1674|101|34|36|55|522|724|2|1706|77|522|332|412|9432|11182|21098|58|29|191|1|29|522|3',\n",
       "                      b'12731|390|1354|1|4383|234|26|205|734|26|17|893|1|57|21|47264|17107|1468',\n",
       "                      b'37|5853|1|376|35|773|2|434|75|31|3|376|434|31|1|1007|6153|19536|9082|3|11|834|11875|215|947|20|947|539|14650|3',\n",
       "                      b'271|209|158|958|381|2282|3610|2773|1781|1|173|597|274|2|9520|48|1056|28|29|665|191|3'],\n",
       "                     dtype=object)>),\n",
       "              ('Query_tokens',\n",
       "               <tf.Tensor: shape=(5,), dtype=string, numpy=\n",
       "               array([b'46|385', b'271|209|158', b'12731', b'1545|75|31', b'9520|48'],\n",
       "                     dtype=object)>)]),\n",
       " <tf.Tensor: shape=(5,), dtype=int32, numpy=array([0, 0, 0, 0, 0], dtype=int32)>)"
      ]
     },
     "execution_count": 154,
     "metadata": {},
     "output_type": "execute_result"
    }
   ],
   "source": [
    "x, y"
   ]
  },
  {
   "cell_type": "code",
   "execution_count": 155,
   "metadata": {},
   "outputs": [
    {
     "name": "stdout",
     "output_type": "stream",
     "text": [
      "'Clicked': [0 0 1 0 0]\n",
      "features:\n",
      "  'DisplayURL'        : [7.3915312e+18 7.9039147e+18 1.4340390e+19 1.0536834e+18 5.8512529e+18]\n",
      "  'AdId'              : [20691800 21162514  9027213 20363531 20133613]\n",
      "  'AdvertiserId'      : [34245  1325 23808  1340 28698]\n",
      "  'Depth'             : [2 2 3 3 2]\n",
      "  'Position'          : [2 1 1 1 2]\n",
      "  'UserID'            : [5091069 1680036 6237055 7969572 3037378]\n",
      "  'Gender'            : [1 2 1 1 0]\n",
      "  'Age'               : [2 5 3 3 2]\n",
      "  'AdKeyword_tokens'  : [b'818|31' b'1277' b'1545' b'2684' b'366|270']\n",
      "  'AdTitle_tokens'    : [b'4567|455|172|10847|170|799|589|1088|955|539|3'\n",
      " b'48|935|203|36|210|1|37|271|209|158'\n",
      " b'615|1545|75|31|1|138|1270|615|131' b'169|1460|872|6|1302|0|248|14|188'\n",
      " b'2677|1625|27|0|177|324|408|99|0|169|287|329']\n",
      "  'AdDescription_tokens': [b'799|203|773|39|5460|3|1088|31|720|16509|3|39|5015|288|163|3|6188|14|4023|3'\n",
      " b'271|209|158|742|381|3500|1446|1781|1|32|597|734|1|742|381|29|665|631|3'\n",
      " b'1545|31|40|615|1|272|18889|1|220|511|20|5270|1|976|4063|189|1|103|644|58'\n",
      " b'981|45|2684|872|1|36|221|207|54|1460|872|6|1|102|1302|1|102|675|1|248|1546|448|3'\n",
      " b'2677|1625|27|0|408|99|1|242|6|272|348|169|287|329|1|1060|405|1|1070|99']\n",
      "  'Query_tokens'      : [b'818|31' b'1277' b'1545|75|31' b'2684' b'366|0|270']\n"
     ]
    }
   ],
   "source": [
    "for feature_batch, label_batch in ds.take(1):\n",
    "    print(\"'Clicked': {}\".format(label_batch))\n",
    "    print(\"features:\")\n",
    "    for key, value in feature_batch.items():\n",
    "        print(\"  {!r:20s}: {}\".format(key, value))"
   ]
  },
  {
   "cell_type": "markdown",
   "metadata": {},
   "source": [
    "## Preprocessing data\n",
    "`map` is all we need"
   ]
  },
  {
   "cell_type": "code",
   "execution_count": 77,
   "metadata": {},
   "outputs": [],
   "source": [
    "def string_to_token_list(sentence_string):\n",
    "    \"\"\"Transforms string of tokens separated by '|' to list of (int) tokens\"\"\"\n",
    "    sentence_as_list = sentence_string.split(\"|\")\n",
    "    token_list = [int(token) for token in sentence_as_list]\n",
    "    return token_list"
   ]
  },
  {
   "cell_type": "code",
   "execution_count": 78,
   "metadata": {},
   "outputs": [
    {
     "data": {
      "text/plain": [
       "'4133|95|17|0|4732|95|146|4079'"
      ]
     },
     "execution_count": 78,
     "metadata": {},
     "output_type": "execute_result"
    }
   ],
   "source": [
    "text = data[\"AdTitle_tokens\"][0]\n",
    "text"
   ]
  },
  {
   "cell_type": "code",
   "execution_count": 79,
   "metadata": {},
   "outputs": [
    {
     "data": {
      "text/plain": [
       "[4133, 95, 17, 0, 4732, 95, 146, 4079]"
      ]
     },
     "execution_count": 79,
     "metadata": {},
     "output_type": "execute_result"
    }
   ],
   "source": [
    "string_to_token_list(text)"
   ]
  },
  {
   "cell_type": "code",
   "execution_count": 88,
   "metadata": {},
   "outputs": [
    {
     "data": {
      "text/plain": [
       "Index(['Click', 'DisplayURL', 'AdId', 'AdvertiserId', 'Depth', 'Position',\n",
       "       'UserID', 'Gender', 'Age', 'AdKeyword_tokens', 'AdTitle_tokens',\n",
       "       'AdDescription_tokens', 'Query_tokens'],\n",
       "      dtype='object')"
      ]
     },
     "execution_count": 88,
     "metadata": {},
     "output_type": "execute_result"
    }
   ],
   "source": [
    "data.columns"
   ]
  },
  {
   "cell_type": "code",
   "execution_count": 104,
   "metadata": {},
   "outputs": [],
   "source": [
    "def identity(x):\n",
    "    return x"
   ]
  },
  {
   "cell_type": "code",
   "execution_count": 126,
   "metadata": {},
   "outputs": [],
   "source": [
    "transforms = {\n",
    "    \"Depth\": identity,\n",
    "    \"Position\": identity,\n",
    "    \"Gender\": identity,\n",
    "    \"Age\": identity\n",
    "}\n",
    "\n",
    "def transform_x(x):\n",
    "    return tf.stack([\n",
    "        transform(x[key]) for key, transform in transforms.items()\n",
    "    ], 1)"
   ]
  },
  {
   "cell_type": "code",
   "execution_count": 156,
   "metadata": {},
   "outputs": [],
   "source": [
    "train = ds.map(lambda x, y: (transform_x(x), y))"
   ]
  },
  {
   "cell_type": "code",
   "execution_count": 157,
   "metadata": {},
   "outputs": [
    {
     "data": {
      "text/plain": [
       "<MapDataset shapes: ((5, 4), (5,)), types: (tf.int32, tf.int32)>"
      ]
     },
     "execution_count": 157,
     "metadata": {},
     "output_type": "execute_result"
    }
   ],
   "source": [
    "train"
   ]
  },
  {
   "cell_type": "markdown",
   "metadata": {},
   "source": [
    "## Model"
   ]
  },
  {
   "cell_type": "code",
   "execution_count": 172,
   "metadata": {},
   "outputs": [],
   "source": [
    "N_SAMPLES = 100_000\n",
    "batch_size = 1000\n",
    "steps_per_epoch = N_SAMPLES // batch_size\n",
    "ds = tf.data.experimental.make_csv_dataset(\"data/D100k.tsv\",\n",
    "                                           field_delim=\"\\t\",\n",
    "                                           batch_size=5,  # increase for real work\n",
    "                                           label_name=\"Click\")\n",
    "\n",
    "train = ds.map(lambda x, y: (transform_x(x), y))"
   ]
  },
  {
   "cell_type": "code",
   "execution_count": 173,
   "metadata": {},
   "outputs": [],
   "source": [
    "model = keras.models.Sequential()\n",
    "model.add(keras.layers.Dense(units=128, activation=\"relu\"))\n",
    "model.add(keras.layers.Dense(units=64, activation=\"relu\"))\n",
    "model.add(keras.layers.Dense(units=1, activation=\"sigmoid\"))\n",
    "model.compile(loss=tf.keras.losses.categorical_crossentropy, \n",
    "              optimizer=keras.optimizers.Adam(), \n",
    "              metrics=[\"accuracy\", keras.metrics.AUC()])"
   ]
  },
  {
   "cell_type": "code",
   "execution_count": 174,
   "metadata": {},
   "outputs": [
    {
     "name": "stdout",
     "output_type": "stream",
     "text": [
      "Epoch 1/10\n",
      "100/100 [==============================] - 0s 1ms/step - loss: 4.5300e-09 - accuracy: 0.9620 - auc_5: 0.6756\n",
      "Epoch 2/10\n",
      "100/100 [==============================] - 0s 1ms/step - loss: 4.2915e-09 - accuracy: 0.9640 - auc_5: 0.4934\n",
      "Epoch 3/10\n",
      "100/100 [==============================] - 0s 1ms/step - loss: 6.4373e-09 - accuracy: 0.9460 - auc_5: 0.5717\n",
      "Epoch 4/10\n",
      "100/100 [==============================] - 0s 1ms/step - loss: 5.0068e-09 - accuracy: 0.9580 - auc_5: 0.6496\n",
      "Epoch 5/10\n",
      "100/100 [==============================] - 0s 1ms/step - loss: 4.2915e-09 - accuracy: 0.9640 - auc_5: 0.6646\n",
      "Epoch 6/10\n",
      "100/100 [==============================] - 0s 1ms/step - loss: 6.6757e-09 - accuracy: 0.9440 - auc_5: 0.5211\n",
      "Epoch 7/10\n",
      "100/100 [==============================] - 0s 1ms/step - loss: 4.7684e-09 - accuracy: 0.9600 - auc_5: 0.6022\n",
      "Epoch 8/10\n",
      "100/100 [==============================] - 0s 1ms/step - loss: 6.4373e-09 - accuracy: 0.9460 - auc_5: 0.6198\n",
      "Epoch 9/10\n",
      "100/100 [==============================] - 0s 1ms/step - loss: 4.7684e-09 - accuracy: 0.9600 - auc_5: 0.5406\n",
      "Epoch 10/10\n",
      "100/100 [==============================] - 0s 1ms/step - loss: 5.2452e-09 - accuracy: 0.9560 - auc_5: 0.4836\n"
     ]
    },
    {
     "data": {
      "text/plain": [
       "<tensorflow.python.keras.callbacks.History at 0x7fb46541cda0>"
      ]
     },
     "execution_count": 174,
     "metadata": {},
     "output_type": "execute_result"
    }
   ],
   "source": [
    "model.fit(train, epochs=10, steps_per_epoch=steps_per_epoch)"
   ]
  },
  {
   "cell_type": "markdown",
   "metadata": {},
   "source": [
    "TODO:\n",
    "* How to do cross-validation in automated fashion?\n",
    "* Incorporate test set, without it it is pointless. How to do it?\n",
    "* Run it on bigger dataset"
   ]
  }
 ],
 "metadata": {
  "kernelspec": {
   "display_name": "adclick",
   "language": "python",
   "name": "adclick"
  },
  "language_info": {
   "codemirror_mode": {
    "name": "ipython",
    "version": 3
   },
   "file_extension": ".py",
   "mimetype": "text/x-python",
   "name": "python",
   "nbconvert_exporter": "python",
   "pygments_lexer": "ipython3",
   "version": "3.6.9"
  }
 },
 "nbformat": 4,
 "nbformat_minor": 4
}
