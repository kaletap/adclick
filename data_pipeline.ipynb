{
 "cells": [
  {
   "cell_type": "markdown",
   "metadata": {},
   "source": [
    "# Data transformations\n",
    "Assumption: the whole data won't fit into memory. We need to iterate over it in chunks.\n",
    "\n",
    "We have three types of variables:\n",
    "* **simple** (numerical)\n",
    "* **IDs** (discrete, with huge number of categories)\n",
    "* **text tokens** (sequence of discrete tokens). We may or may not do TFIDF or something similar, but we would need to precompute some statistics first.\n",
    "\n",
    "## Overview\n",
    "\n",
    "No need to transform basic variables, all are numerical: gender, age, depth, position.\n",
    "\n",
    "Let's create dataset from these four alone. This will serve as a **baseline**.\n",
    "\n",
    "We may want to separate baseline data transformation and baseline model. The most important will probably be data transformation, since it will influence the way we build a model."
   ]
  },
  {
   "cell_type": "code",
   "execution_count": 1,
   "metadata": {},
   "outputs": [],
   "source": [
    "import tensorflow as tf\n",
    "import tensorflow.keras as keras\n",
    "import pandas as pd\n",
    "from collections import OrderedDict"
   ]
  },
  {
   "cell_type": "code",
   "execution_count": 2,
   "metadata": {},
   "outputs": [
    {
     "data": {
      "text/plain": [
       "'2.2.0'"
      ]
     },
     "execution_count": 2,
     "metadata": {},
     "output_type": "execute_result"
    }
   ],
   "source": [
    "tf.__version__"
   ]
  },
  {
   "cell_type": "code",
   "execution_count": 3,
   "metadata": {},
   "outputs": [
    {
     "data": {
      "text/html": [
       "<div>\n",
       "<style scoped>\n",
       "    .dataframe tbody tr th:only-of-type {\n",
       "        vertical-align: middle;\n",
       "    }\n",
       "\n",
       "    .dataframe tbody tr th {\n",
       "        vertical-align: top;\n",
       "    }\n",
       "\n",
       "    .dataframe thead th {\n",
       "        text-align: right;\n",
       "    }\n",
       "</style>\n",
       "<table border=\"1\" class=\"dataframe\">\n",
       "  <thead>\n",
       "    <tr style=\"text-align: right;\">\n",
       "      <th></th>\n",
       "      <th>Click</th>\n",
       "      <th>DisplayURL</th>\n",
       "      <th>AdId</th>\n",
       "      <th>AdvertiserId</th>\n",
       "      <th>Depth</th>\n",
       "      <th>Position</th>\n",
       "      <th>UserID</th>\n",
       "      <th>Gender</th>\n",
       "      <th>Age</th>\n",
       "      <th>AdKeyword_tokens</th>\n",
       "      <th>AdTitle_tokens</th>\n",
       "      <th>AdDescription_tokens</th>\n",
       "      <th>Query_tokens</th>\n",
       "    </tr>\n",
       "  </thead>\n",
       "  <tbody>\n",
       "    <tr>\n",
       "      <th>0</th>\n",
       "      <td>0</td>\n",
       "      <td>4298118681424644510</td>\n",
       "      <td>7686695</td>\n",
       "      <td>385</td>\n",
       "      <td>3</td>\n",
       "      <td>3</td>\n",
       "      <td>490234</td>\n",
       "      <td>1</td>\n",
       "      <td>3</td>\n",
       "      <td>4133|95|17</td>\n",
       "      <td>4133|95|17|0|4732|95|146|4079</td>\n",
       "      <td>8|81|123|205|2|95|26|95|60|32|1|17|146|1|991|3...</td>\n",
       "      <td>4133</td>\n",
       "    </tr>\n",
       "    <tr>\n",
       "      <th>1</th>\n",
       "      <td>0</td>\n",
       "      <td>13677630321509009335</td>\n",
       "      <td>3517124</td>\n",
       "      <td>23778</td>\n",
       "      <td>3</td>\n",
       "      <td>1</td>\n",
       "      <td>490234</td>\n",
       "      <td>1</td>\n",
       "      <td>3</td>\n",
       "      <td>4133</td>\n",
       "      <td>145|65|3927|832|93</td>\n",
       "      <td>3683|4990|2793|11589|21|10741|26|16044|26|3168...</td>\n",
       "      <td>4133</td>\n",
       "    </tr>\n",
       "    <tr>\n",
       "      <th>2</th>\n",
       "      <td>0</td>\n",
       "      <td>11689327222955583742</td>\n",
       "      <td>21021375</td>\n",
       "      <td>27701</td>\n",
       "      <td>3</td>\n",
       "      <td>2</td>\n",
       "      <td>490234</td>\n",
       "      <td>1</td>\n",
       "      <td>3</td>\n",
       "      <td>4133</td>\n",
       "      <td>4133|95|1|339|125|21|83093</td>\n",
       "      <td>726|50|2218|1533|2275|4133|1299|509|95|2072|1|...</td>\n",
       "      <td>4133</td>\n",
       "    </tr>\n",
       "    <tr>\n",
       "      <th>3</th>\n",
       "      <td>0</td>\n",
       "      <td>4298118681424644510</td>\n",
       "      <td>7686695</td>\n",
       "      <td>385</td>\n",
       "      <td>1</td>\n",
       "      <td>1</td>\n",
       "      <td>16960371</td>\n",
       "      <td>2</td>\n",
       "      <td>2</td>\n",
       "      <td>4133|95|17</td>\n",
       "      <td>4133|95|17|0|4732|95|146|4079</td>\n",
       "      <td>8|81|123|205|2|95|26|95|60|32|1|17|146|1|991|3...</td>\n",
       "      <td>4133|4942</td>\n",
       "    </tr>\n",
       "    <tr>\n",
       "      <th>4</th>\n",
       "      <td>0</td>\n",
       "      <td>15132506310926074459</td>\n",
       "      <td>4424000</td>\n",
       "      <td>20940</td>\n",
       "      <td>1</td>\n",
       "      <td>1</td>\n",
       "      <td>3524325</td>\n",
       "      <td>1</td>\n",
       "      <td>3</td>\n",
       "      <td>121|4133|95</td>\n",
       "      <td>121|4133|95|8762|3957|4563|2233|192|28|138|3</td>\n",
       "      <td>62|1162|570|8|4133|95|1|81|102|1155|650|1255|1...</td>\n",
       "      <td>4133|4942</td>\n",
       "    </tr>\n",
       "  </tbody>\n",
       "</table>\n",
       "</div>"
      ],
      "text/plain": [
       "   Click            DisplayURL      AdId  AdvertiserId  Depth  Position  \\\n",
       "0      0   4298118681424644510   7686695           385      3         3   \n",
       "1      0  13677630321509009335   3517124         23778      3         1   \n",
       "2      0  11689327222955583742  21021375         27701      3         2   \n",
       "3      0   4298118681424644510   7686695           385      1         1   \n",
       "4      0  15132506310926074459   4424000         20940      1         1   \n",
       "\n",
       "     UserID  Gender  Age AdKeyword_tokens  \\\n",
       "0    490234       1    3       4133|95|17   \n",
       "1    490234       1    3             4133   \n",
       "2    490234       1    3             4133   \n",
       "3  16960371       2    2       4133|95|17   \n",
       "4   3524325       1    3      121|4133|95   \n",
       "\n",
       "                                 AdTitle_tokens  \\\n",
       "0                 4133|95|17|0|4732|95|146|4079   \n",
       "1                            145|65|3927|832|93   \n",
       "2                    4133|95|1|339|125|21|83093   \n",
       "3                 4133|95|17|0|4732|95|146|4079   \n",
       "4  121|4133|95|8762|3957|4563|2233|192|28|138|3   \n",
       "\n",
       "                                AdDescription_tokens Query_tokens  \n",
       "0  8|81|123|205|2|95|26|95|60|32|1|17|146|1|991|3...         4133  \n",
       "1  3683|4990|2793|11589|21|10741|26|16044|26|3168...         4133  \n",
       "2  726|50|2218|1533|2275|4133|1299|509|95|2072|1|...         4133  \n",
       "3  8|81|123|205|2|95|26|95|60|32|1|17|146|1|991|3...    4133|4942  \n",
       "4  62|1162|570|8|4133|95|1|81|102|1155|650|1255|1...    4133|4942  "
      ]
     },
     "execution_count": 3,
     "metadata": {},
     "output_type": "execute_result"
    }
   ],
   "source": [
    "data = pd.read_csv(\"data/D100k.tsv\", sep=\"\\t\")\n",
    "data.head()"
   ]
  },
  {
   "cell_type": "code",
   "execution_count": 4,
   "metadata": {},
   "outputs": [],
   "source": [
    "ds = tf.data.experimental.make_csv_dataset(\"data/D100k.tsv\",\n",
    "                                           field_delim=\"\\t\",\n",
    "                                           batch_size=5,  # increase for real work\n",
    "                                           label_name=\"Click\")"
   ]
  },
  {
   "cell_type": "markdown",
   "metadata": {},
   "source": [
    "#### Inspection of batch dataset"
   ]
  },
  {
   "cell_type": "code",
   "execution_count": 5,
   "metadata": {},
   "outputs": [
    {
     "data": {
      "text/plain": [
       "<PrefetchDataset shapes: (OrderedDict([(DisplayURL, (5,)), (AdId, (5,)), (AdvertiserId, (5,)), (Depth, (5,)), (Position, (5,)), (UserID, (5,)), (Gender, (5,)), (Age, (5,)), (AdKeyword_tokens, (5,)), (AdTitle_tokens, (5,)), (AdDescription_tokens, (5,)), (Query_tokens, (5,))]), (5,)), types: (OrderedDict([(DisplayURL, tf.float32), (AdId, tf.int32), (AdvertiserId, tf.int32), (Depth, tf.int32), (Position, tf.int32), (UserID, tf.int32), (Gender, tf.int32), (Age, tf.int32), (AdKeyword_tokens, tf.string), (AdTitle_tokens, tf.string), (AdDescription_tokens, tf.string), (Query_tokens, tf.string)]), tf.int32)>"
      ]
     },
     "execution_count": 5,
     "metadata": {},
     "output_type": "execute_result"
    }
   ],
   "source": [
    "ds"
   ]
  },
  {
   "cell_type": "code",
   "execution_count": 6,
   "metadata": {},
   "outputs": [],
   "source": [
    "x, y = next(iter(ds))"
   ]
  },
  {
   "cell_type": "code",
   "execution_count": 7,
   "metadata": {},
   "outputs": [
    {
     "data": {
      "text/plain": [
       "(OrderedDict([('DisplayURL',\n",
       "               <tf.Tensor: shape=(5,), dtype=float32, numpy=\n",
       "               array([2.4127719e+18, 1.1121834e+19, 1.5785113e+19, 1.0245114e+19,\n",
       "                      4.6967827e+18], dtype=float32)>),\n",
       "              ('AdId',\n",
       "               <tf.Tensor: shape=(5,), dtype=int32, numpy=array([20067154, 21156726, 20908196, 21134385,  3176858], dtype=int32)>),\n",
       "              ('AdvertiserId',\n",
       "               <tf.Tensor: shape=(5,), dtype=int32, numpy=array([23781, 23807, 35088, 33296, 23790], dtype=int32)>),\n",
       "              ('Depth',\n",
       "               <tf.Tensor: shape=(5,), dtype=int32, numpy=array([2, 2, 3, 3, 2], dtype=int32)>),\n",
       "              ('Position',\n",
       "               <tf.Tensor: shape=(5,), dtype=int32, numpy=array([2, 1, 2, 1, 2], dtype=int32)>),\n",
       "              ('UserID',\n",
       "               <tf.Tensor: shape=(5,), dtype=int32, numpy=array([11191571,  7940281,  7997418,   466930,  1173013], dtype=int32)>),\n",
       "              ('Gender',\n",
       "               <tf.Tensor: shape=(5,), dtype=int32, numpy=array([1, 1, 2, 0, 1], dtype=int32)>),\n",
       "              ('Age',\n",
       "               <tf.Tensor: shape=(5,), dtype=int32, numpy=array([5, 3, 3, 1, 5], dtype=int32)>),\n",
       "              ('AdKeyword_tokens',\n",
       "               <tf.Tensor: shape=(5,), dtype=string, numpy=\n",
       "               array([b'1545|75|31', b'1194', b'12731', b'1545|75|31', b'75|31'],\n",
       "                     dtype=object)>),\n",
       "              ('AdTitle_tokens',\n",
       "               <tf.Tensor: shape=(5,), dtype=string, numpy=\n",
       "               array([b'35|2233|1545|75|31|172|46|467|170|2233|58052|1|40|14|834',\n",
       "                      b'69|1194|0|149|2389|6', b'12731|190|513|12731|677|183',\n",
       "                      b'169|287|434|31|172|518|6852|170|1|6429|3',\n",
       "                      b'775|50|1770|65209|293|7912|49588|2805|1|1651|41|1856'],\n",
       "                     dtype=object)>),\n",
       "              ('AdDescription_tokens',\n",
       "               <tf.Tensor: shape=(5,), dtype=string, numpy=\n",
       "               array([b'172|46|467|170|5634|5112|40|155|1965|834|21|4133|2233|3922|11082|603|1|1984|9559|3|10455|412|155|3|577|3084|391|3',\n",
       "                      b'2389|6|15|110|562|348|41|3217|1|111|1688|26|457|153|343|2948|26|0|414|89|2416|58',\n",
       "                      b'12731|390|1354|1|4383|234|26|205|734|26|17|893|1|57|21|47264|17107|1468',\n",
       "                      b'42|45|434|31|1|518|152|1545|75|31|172|518|6852|170|1|5354|5581|192|55|4617|3',\n",
       "                      b'5645|50|1770|3|1075|41|50|2524|63759|3|2899|1352|5738|26|45202|1175|11324|2|297|5586|5877|296|20993|12645|6459|1|92'],\n",
       "                     dtype=object)>),\n",
       "              ('Query_tokens',\n",
       "               <tf.Tensor: shape=(5,), dtype=string, numpy=\n",
       "               array([b'1545|75|31', b'1194', b'12731', b'1545|75|31', b'75|31'],\n",
       "                     dtype=object)>)]),\n",
       " <tf.Tensor: shape=(5,), dtype=int32, numpy=array([0, 0, 0, 1, 0], dtype=int32)>)"
      ]
     },
     "execution_count": 7,
     "metadata": {},
     "output_type": "execute_result"
    }
   ],
   "source": [
    "x, y"
   ]
  },
  {
   "cell_type": "code",
   "execution_count": 8,
   "metadata": {},
   "outputs": [
    {
     "name": "stdout",
     "output_type": "stream",
     "text": [
      "'Clicked': [0 0 0 0 0]\n",
      "features:\n",
      "  'DisplayURL'        : [1.1309026e+19 1.2057879e+19 1.5785113e+19 7.9039147e+18 8.0783747e+18]\n",
      "  'AdId'              : [22002402 20157587 20908196 21162527 10766997]\n",
      "  'AdvertiserId'      : [38263 27961 35088  1325 30157]\n",
      "  'Depth'             : [2 3 3 1 3]\n",
      "  'Position'          : [2 3 2 1 3]\n",
      "  'UserID'            : [4139724 5087306 7981563  766924 7971910]\n",
      "  'Gender'            : [2 1 2 1 2]\n",
      "  'Age'               : [3 3 6 2 6]\n",
      "  'AdKeyword_tokens'  : [b'50|230|518' b'12731' b'12731' b'485|271|209|3942|48' b'50|230|518']\n",
      "  'AdTitle_tokens'    : [b'45|31|571|1916|38' b'12731|1354|1|334|34|51'\n",
      " b'12731|190|513|12731|677|183' b'48|935|203|36|210|1|37|271|209|158'\n",
      " b'172|1307|170|50|18501|35|1073|3|373|102|26|1724|3571|3']\n",
      "  'AdDescription_tokens': [b'643|34|571|1916|1567|6879|31134|2462|665|9130|39810|0|102289|13491|0|103237|799|2663|3'\n",
      " b'51|277|198|2|12731|421|128|1224|1|1354|2121|1|139|525|1|930|28|1435|3'\n",
      " b'12731|390|1354|1|4383|234|26|205|734|26|17|893|1|57|21|47264|17107|1468'\n",
      " b'271|209|158|742|381|3500|1446|1781|1|32|597|734|1|742|381|29|665|631|3'\n",
      " b'3926|2457|215|209|790|11242|158|9746|3|595|773|3|50|473|26|50|4125|3|2683|2332|3|297|2032|138|87|296|595|773|3']\n",
      "  'Query_tokens'      : [b'518|1996' b'12731' b'12731' b'271|209|3942|12373|7551|87|116'\n",
      " b'518|1996']\n"
     ]
    }
   ],
   "source": [
    "for feature_batch, label_batch in ds.take(1):\n",
    "    print(\"'Clicked': {}\".format(label_batch))\n",
    "    print(\"features:\")\n",
    "    for key, value in feature_batch.items():\n",
    "        print(\"  {!r:20s}: {}\".format(key, value))"
   ]
  },
  {
   "cell_type": "markdown",
   "metadata": {},
   "source": [
    "## Preprocessing data\n",
    "`map` is all we need"
   ]
  },
  {
   "cell_type": "code",
   "execution_count": 9,
   "metadata": {},
   "outputs": [],
   "source": [
    "def string_to_token_list(sentence_string):\n",
    "    \"\"\"Transforms string of tokens separated by '|' to list of (int) tokens\"\"\"\n",
    "    sentence_as_list = sentence_string.split(\"|\")\n",
    "    token_list = [int(token) for token in sentence_as_list]\n",
    "    return token_list"
   ]
  },
  {
   "cell_type": "code",
   "execution_count": 10,
   "metadata": {},
   "outputs": [
    {
     "data": {
      "text/plain": [
       "'4133|95|17|0|4732|95|146|4079'"
      ]
     },
     "execution_count": 10,
     "metadata": {},
     "output_type": "execute_result"
    }
   ],
   "source": [
    "text = data[\"AdTitle_tokens\"][0]\n",
    "text"
   ]
  },
  {
   "cell_type": "code",
   "execution_count": 11,
   "metadata": {},
   "outputs": [
    {
     "data": {
      "text/plain": [
       "[4133, 95, 17, 0, 4732, 95, 146, 4079]"
      ]
     },
     "execution_count": 11,
     "metadata": {},
     "output_type": "execute_result"
    }
   ],
   "source": [
    "string_to_token_list(text)"
   ]
  },
  {
   "cell_type": "code",
   "execution_count": 12,
   "metadata": {},
   "outputs": [
    {
     "data": {
      "text/plain": [
       "Index(['Click', 'DisplayURL', 'AdId', 'AdvertiserId', 'Depth', 'Position',\n",
       "       'UserID', 'Gender', 'Age', 'AdKeyword_tokens', 'AdTitle_tokens',\n",
       "       'AdDescription_tokens', 'Query_tokens'],\n",
       "      dtype='object')"
      ]
     },
     "execution_count": 12,
     "metadata": {},
     "output_type": "execute_result"
    }
   ],
   "source": [
    "data.columns"
   ]
  },
  {
   "cell_type": "code",
   "execution_count": 13,
   "metadata": {},
   "outputs": [],
   "source": [
    "def identity(x):\n",
    "    return x"
   ]
  },
  {
   "cell_type": "code",
   "execution_count": 14,
   "metadata": {},
   "outputs": [],
   "source": [
    "transforms = {\n",
    "    \"Depth\": identity,\n",
    "    \"Position\": identity,\n",
    "    \"Gender\": identity,\n",
    "    \"Age\": identity\n",
    "}\n",
    "\n",
    "def transform_x(x):\n",
    "    return tf.stack([\n",
    "        transform(x[key]) for key, transform in transforms.items()\n",
    "    ], 1)"
   ]
  },
  {
   "cell_type": "code",
   "execution_count": 15,
   "metadata": {},
   "outputs": [],
   "source": [
    "train = ds.map(lambda x, y: (transform_x(x), y))"
   ]
  },
  {
   "cell_type": "code",
   "execution_count": 16,
   "metadata": {},
   "outputs": [
    {
     "data": {
      "text/plain": [
       "<MapDataset shapes: ((5, 4), (5,)), types: (tf.int32, tf.int32)>"
      ]
     },
     "execution_count": 16,
     "metadata": {},
     "output_type": "execute_result"
    }
   ],
   "source": [
    "train"
   ]
  },
  {
   "cell_type": "markdown",
   "metadata": {},
   "source": [
    "## Model"
   ]
  },
  {
   "cell_type": "code",
   "execution_count": 27,
   "metadata": {},
   "outputs": [],
   "source": [
    "N_SAMPLES = 100_000\n",
    "batch_size = 10000\n",
    "steps_per_epoch = N_SAMPLES // batch_size\n",
    "ds = tf.data.experimental.make_csv_dataset(\"data/D100k.tsv\",\n",
    "                                           field_delim=\"\\t\",\n",
    "                                           batch_size=5,  # increase for real work\n",
    "                                           label_name=\"Click\")\n",
    "\n",
    "train = ds.map(lambda x, y: (transform_x(x), y))"
   ]
  },
  {
   "cell_type": "code",
   "execution_count": 28,
   "metadata": {},
   "outputs": [],
   "source": [
    "model = keras.models.Sequential()\n",
    "# model.add(keras.layers.Dense(units=128, activation=\"relu\"))\n",
    "model.add(keras.layers.Dense(units=1, activation=\"sigmoid\"))\n",
    "model.compile(loss=tf.keras.losses.categorical_crossentropy, \n",
    "              optimizer=keras.optimizers.Adam(), \n",
    "              metrics=[\"accuracy\", keras.metrics.AUC()])"
   ]
  },
  {
   "cell_type": "code",
   "execution_count": 29,
   "metadata": {},
   "outputs": [
    {
     "name": "stdout",
     "output_type": "stream",
     "text": [
      "Epoch 1/100\n",
      "10/10 [==============================] - 0s 985us/step - loss: 7.1526e-09 - accuracy: 0.1400 - auc_3: 0.3546  \n",
      "Epoch 2/100\n",
      "10/10 [==============================] - 0s 1ms/step - loss: 0.0000e+00 - accuracy: 0.0400 - auc_3: 0.0000e+00\n",
      "Epoch 3/100\n",
      "10/10 [==============================] - 0s 1ms/step - loss: 0.0000e+00 - accuracy: 0.0800 - auc_3: 0.0000e+00\n",
      "Epoch 4/100\n",
      "10/10 [==============================] - 0s 1ms/step - loss: 4.7684e-09 - accuracy: 0.0800 - auc_3: 0.6979    \n",
      "Epoch 5/100\n",
      "10/10 [==============================] - 0s 1ms/step - loss: 7.1526e-09 - accuracy: 0.1200 - auc_3: 0.3830    \n",
      "Epoch 6/100\n",
      "10/10 [==============================] - 0s 1ms/step - loss: 4.7684e-09 - accuracy: 0.0800 - auc_3: 0.5000    \n",
      "Epoch 7/100\n",
      "10/10 [==============================] - 0s 1ms/step - loss: 0.0000e+00 - accuracy: 0.0800 - auc_3: 0.0000e+00\n",
      "Epoch 8/100\n",
      "10/10 [==============================] - 0s 1ms/step - loss: 9.5367e-09 - accuracy: 0.1600 - auc_3: 0.5027    \n",
      "Epoch 9/100\n",
      "10/10 [==============================] - 0s 1ms/step - loss: 2.3842e-09 - accuracy: 0.0800 - auc_3: 0.6531    \n",
      "Epoch 10/100\n",
      "10/10 [==============================] - 0s 1ms/step - loss: 2.3842e-09 - accuracy: 0.0200 - auc_3: 0.2449    \n",
      "Epoch 11/100\n",
      "10/10 [==============================] - 0s 2ms/step - loss: 7.1526e-09 - accuracy: 0.1600 - auc_3: 0.7801\n",
      "Epoch 12/100\n",
      "10/10 [==============================] - 0s 1ms/step - loss: 2.3842e-09 - accuracy: 0.0400 - auc_3: 0.4490    \n",
      "Epoch 13/100\n",
      "10/10 [==============================] - 0s 1ms/step - loss: 4.7684e-09 - accuracy: 0.0800 - auc_3: 0.2396    \n",
      "Epoch 14/100\n",
      "10/10 [==============================] - 0s 1ms/step - loss: 7.1526e-09 - accuracy: 0.0600 - auc_3: 0.7376    \n",
      "Epoch 15/100\n",
      "10/10 [==============================] - 0s 1ms/step - loss: 2.3842e-09 - accuracy: 0.1000 - auc_3: 0.1020\n",
      "Epoch 16/100\n",
      "10/10 [==============================] - 0s 1ms/step - loss: 9.5367e-09 - accuracy: 0.1000 - auc_3: 0.5571\n",
      "Epoch 17/100\n",
      "10/10 [==============================] - 0s 1ms/step - loss: 2.3842e-09 - accuracy: 0.0400 - auc_3: 0.1633    \n",
      "Epoch 18/100\n",
      "10/10 [==============================] - 0s 1ms/step - loss: 4.7684e-09 - accuracy: 0.0400 - auc_3: 0.2917    \n",
      "Epoch 19/100\n",
      "10/10 [==============================] - 0s 1ms/step - loss: 4.7684e-09 - accuracy: 0.0600 - auc_3: 0.2344    \n",
      "Epoch 20/100\n",
      "10/10 [==============================] - 0s 1ms/step - loss: 0.0000e+00 - accuracy: 0.0400 - auc_3: 0.0000e+00\n",
      "Epoch 21/100\n",
      "10/10 [==============================] - 0s 1ms/step - loss: 7.1526e-09 - accuracy: 0.0800 - auc_3: 0.6773\n",
      "Epoch 22/100\n",
      "10/10 [==============================] - 0s 1ms/step - loss: 0.0000e+00 - accuracy: 0.0200 - auc_3: 0.0000e+00\n",
      "Epoch 23/100\n",
      "10/10 [==============================] - 0s 1ms/step - loss: 4.7684e-09 - accuracy: 0.1200 - auc_3: 0.7917\n",
      "Epoch 24/100\n",
      "10/10 [==============================] - 0s 1ms/step - loss: 2.3842e-09 - accuracy: 0.0800 - auc_3: 0.3776    \n",
      "Epoch 25/100\n",
      "10/10 [==============================] - 0s 2ms/step - loss: 4.7684e-09 - accuracy: 0.1000 - auc_3: 0.3021\n",
      "Epoch 26/100\n",
      "10/10 [==============================] - 0s 1ms/step - loss: 7.1526e-09 - accuracy: 0.1000 - auc_3: 0.2234    \n",
      "Epoch 27/100\n",
      "10/10 [==============================] - 0s 1ms/step - loss: 1.1921e-08 - accuracy: 0.1600 - auc_3: 0.6978\n",
      "Epoch 28/100\n",
      "10/10 [==============================] - 0s 1ms/step - loss: 2.3842e-09 - accuracy: 0.1000 - auc_3: 0.8980    \n",
      "Epoch 29/100\n",
      "10/10 [==============================] - 0s 1ms/step - loss: 7.1526e-09 - accuracy: 0.1200 - auc_3: 0.8333\n",
      "Epoch 30/100\n",
      "10/10 [==============================] - 0s 1ms/step - loss: 9.5367e-09 - accuracy: 0.1000 - auc_3: 0.7500\n",
      "Epoch 31/100\n",
      "10/10 [==============================] - 0s 1ms/step - loss: 2.3842e-09 - accuracy: 0.0400 - auc_3: 0.0204\n",
      "Epoch 32/100\n",
      "10/10 [==============================] - 0s 1ms/step - loss: 7.1526e-09 - accuracy: 0.1200 - auc_3: 0.4539\n",
      "Epoch 33/100\n",
      "10/10 [==============================] - 0s 1ms/step - loss: 2.3842e-09 - accuracy: 0.1000 - auc_3: 0.3776    \n",
      "Epoch 34/100\n",
      "10/10 [==============================] - 0s 1ms/step - loss: 1.1921e-08 - accuracy: 0.1400 - auc_3: 0.5200\n",
      "Epoch 35/100\n",
      "10/10 [==============================] - 0s 1ms/step - loss: 2.3842e-09 - accuracy: 0.0400 - auc_3: 0.0510    \n",
      "Epoch 36/100\n",
      "10/10 [==============================] - 0s 1ms/step - loss: 2.3842e-09 - accuracy: 0.0800 - auc_3: 0.7959    \n",
      "Epoch 37/100\n",
      "10/10 [==============================] - 0s 2ms/step - loss: 9.5367e-09 - accuracy: 0.1200 - auc_3: 0.5652    \n",
      "Epoch 38/100\n",
      "10/10 [==============================] - 0s 2ms/step - loss: 1.1921e-08 - accuracy: 0.1400 - auc_3: 0.4000    \n",
      "Epoch 39/100\n",
      "10/10 [==============================] - 0s 1ms/step - loss: 4.7684e-09 - accuracy: 0.1200 - auc_3: 0.7396    \n",
      "Epoch 40/100\n",
      "10/10 [==============================] - 0s 1ms/step - loss: 2.3842e-09 - accuracy: 0.0000e+00 - auc_3: 0.0000e+00\n",
      "Epoch 41/100\n",
      "10/10 [==============================] - 0s 1ms/step - loss: 4.7684e-09 - accuracy: 0.2000 - auc_3: 0.6406    \n",
      "Epoch 42/100\n",
      "10/10 [==============================] - 0s 1ms/step - loss: 9.5367e-09 - accuracy: 0.0600 - auc_3: 0.5217    \n",
      "Epoch 43/100\n",
      "10/10 [==============================] - 0s 1ms/step - loss: 2.3842e-09 - accuracy: 0.0400 - auc_3: 0.8673    \n",
      "Epoch 44/100\n",
      "10/10 [==============================] - 0s 1ms/step - loss: 2.3842e-09 - accuracy: 0.0800 - auc_3: 0.8469    \n",
      "Epoch 45/100\n",
      "10/10 [==============================] - 0s 2ms/step - loss: 2.3842e-09 - accuracy: 0.0800 - auc_3: 0.2449    \n",
      "Epoch 46/100\n",
      "10/10 [==============================] - 0s 1ms/step - loss: 9.5367e-09 - accuracy: 0.1200 - auc_3: 0.4158    \n",
      "Epoch 47/100\n",
      "10/10 [==============================] - 0s 2ms/step - loss: 0.0000e+00 - accuracy: 0.0600 - auc_3: 0.0000e+00\n",
      "Epoch 48/100\n",
      "10/10 [==============================] - 0s 2ms/step - loss: 4.7684e-09 - accuracy: 0.1200 - auc_3: 0.3333\n",
      "Epoch 49/100\n",
      "10/10 [==============================] - 0s 2ms/step - loss: 9.5367e-09 - accuracy: 0.1600 - auc_3: 0.7554\n",
      "Epoch 50/100\n",
      "10/10 [==============================] - 0s 2ms/step - loss: 4.7684e-09 - accuracy: 0.0800 - auc_3: 0.1250    \n",
      "Epoch 51/100\n",
      "10/10 [==============================] - 0s 2ms/step - loss: 1.1921e-08 - accuracy: 0.1200 - auc_3: 0.4133    \n",
      "Epoch 52/100\n",
      "10/10 [==============================] - 0s 1ms/step - loss: 0.0000e+00 - accuracy: 0.0200 - auc_3: 0.0000e+00\n",
      "Epoch 53/100\n",
      "10/10 [==============================] - 0s 2ms/step - loss: 1.1921e-08 - accuracy: 0.1400 - auc_3: 0.4533\n",
      "Epoch 54/100\n",
      "10/10 [==============================] - 0s 2ms/step - loss: 4.7684e-09 - accuracy: 0.1000 - auc_3: 0.3906    \n",
      "Epoch 55/100\n",
      "10/10 [==============================] - 0s 2ms/step - loss: 2.3842e-09 - accuracy: 0.0600 - auc_3: 0.4184    \n",
      "Epoch 56/100\n",
      "10/10 [==============================] - 0s 2ms/step - loss: 7.1526e-09 - accuracy: 0.1400 - auc_3: 0.5319    \n",
      "Epoch 57/100\n",
      "10/10 [==============================] - 0s 1ms/step - loss: 7.1526e-09 - accuracy: 0.1600 - auc_3: 0.6383\n",
      "Epoch 58/100\n",
      "10/10 [==============================] - 0s 1ms/step - loss: 4.7684e-09 - accuracy: 0.1000 - auc_3: 0.3281    \n",
      "Epoch 59/100\n",
      "10/10 [==============================] - 0s 1ms/step - loss: 2.3842e-09 - accuracy: 0.0600 - auc_3: 0.6327    \n",
      "Epoch 60/100\n",
      "10/10 [==============================] - 0s 1ms/step - loss: 7.1526e-09 - accuracy: 0.0600 - auc_3: 0.1631    \n",
      "Epoch 61/100\n",
      "10/10 [==============================] - 0s 1ms/step - loss: 0.0000e+00 - accuracy: 0.0600 - auc_3: 0.0000e+00\n",
      "Epoch 62/100\n",
      "10/10 [==============================] - 0s 1ms/step - loss: 1.1921e-08 - accuracy: 0.1200 - auc_3: 0.8711\n",
      "Epoch 63/100\n",
      "10/10 [==============================] - 0s 2ms/step - loss: 9.5367e-09 - accuracy: 0.1200 - auc_3: 0.5109\n",
      "Epoch 64/100\n",
      "10/10 [==============================] - 0s 1ms/step - loss: 1.4305e-08 - accuracy: 0.1600 - auc_3: 0.4640\n",
      "Epoch 65/100\n",
      "10/10 [==============================] - 0s 1ms/step - loss: 4.7684e-09 - accuracy: 0.0800 - auc_3: 0.6719    \n",
      "Epoch 66/100\n",
      "10/10 [==============================] - 0s 1ms/step - loss: 4.7684e-09 - accuracy: 0.0800 - auc_3: 0.6354\n",
      "Epoch 67/100\n",
      "10/10 [==============================] - 0s 1ms/step - loss: 2.3842e-09 - accuracy: 0.0800 - auc_3: 0.1837    \n",
      "Epoch 68/100\n",
      "10/10 [==============================] - 0s 2ms/step - loss: 0.0000e+00 - accuracy: 0.0000e+00 - auc_3: 0.0000e+00\n",
      "Epoch 69/100\n",
      "10/10 [==============================] - 0s 1ms/step - loss: 2.3842e-09 - accuracy: 0.0200 - auc_3: 0.1633    \n",
      "Epoch 70/100\n",
      "10/10 [==============================] - 0s 1ms/step - loss: 4.7684e-09 - accuracy: 0.0600 - auc_3: 0.1146\n",
      "Epoch 71/100\n",
      "10/10 [==============================] - 0s 1ms/step - loss: 0.0000e+00 - accuracy: 0.0400 - auc_3: 0.0000e+00\n",
      "Epoch 72/100\n",
      "10/10 [==============================] - 0s 1ms/step - loss: 4.7684e-09 - accuracy: 0.0200 - auc_3: 0.3333    \n",
      "Epoch 73/100\n",
      "10/10 [==============================] - 0s 1ms/step - loss: 4.7684e-09 - accuracy: 0.1000 - auc_3: 0.5260\n",
      "Epoch 74/100\n",
      "10/10 [==============================] - 0s 2ms/step - loss: 2.3842e-09 - accuracy: 0.0800 - auc_3: 0.5306    \n",
      "Epoch 75/100\n",
      "10/10 [==============================] - 0s 1ms/step - loss: 2.3842e-09 - accuracy: 0.0400 - auc_3: 0.5306\n",
      "Epoch 76/100\n",
      "10/10 [==============================] - 0s 1ms/step - loss: 9.5367e-09 - accuracy: 0.0800 - auc_3: 0.5598\n",
      "Epoch 77/100\n",
      "10/10 [==============================] - 0s 1ms/step - loss: 4.7684e-09 - accuracy: 0.0800 - auc_3: 0.4740    \n",
      "Epoch 78/100\n",
      "10/10 [==============================] - 0s 1ms/step - loss: 4.7684e-09 - accuracy: 0.1200 - auc_3: 0.7448\n",
      "Epoch 79/100\n",
      "10/10 [==============================] - 0s 1ms/step - loss: 4.7684e-09 - accuracy: 0.0400 - auc_3: 0.3698    \n",
      "Epoch 80/100\n",
      "10/10 [==============================] - 0s 1ms/step - loss: 1.1921e-08 - accuracy: 0.1400 - auc_3: 0.3244    \n",
      "Epoch 81/100\n",
      "10/10 [==============================] - 0s 2ms/step - loss: 2.3842e-09 - accuracy: 0.1200 - auc_3: 0.2551\n",
      "Epoch 82/100\n",
      "10/10 [==============================] - 0s 2ms/step - loss: 4.7684e-09 - accuracy: 0.0600 - auc_3: 0.5052    \n",
      "Epoch 83/100\n",
      "10/10 [==============================] - 0s 2ms/step - loss: 4.7684e-09 - accuracy: 0.0400 - auc_3: 0.8542    \n",
      "Epoch 84/100\n",
      "10/10 [==============================] - 0s 2ms/step - loss: 0.0000e+00 - accuracy: 0.0000e+00 - auc_3: 0.0000e+00\n",
      "Epoch 85/100\n",
      "10/10 [==============================] - 0s 2ms/step - loss: 4.7684e-09 - accuracy: 0.0400 - auc_3: 0.3385    \n",
      "Epoch 86/100\n",
      "10/10 [==============================] - 0s 2ms/step - loss: 9.5367e-09 - accuracy: 0.1200 - auc_3: 0.4810    \n",
      "Epoch 87/100\n",
      "10/10 [==============================] - 0s 1ms/step - loss: 4.7684e-09 - accuracy: 0.1000 - auc_3: 0.6302\n",
      "Epoch 88/100\n",
      "10/10 [==============================] - 0s 1ms/step - loss: 7.1526e-09 - accuracy: 0.1200 - auc_3: 0.5816    \n",
      "Epoch 89/100\n",
      "10/10 [==============================] - 0s 1ms/step - loss: 7.1526e-09 - accuracy: 0.1200 - auc_3: 0.3759\n",
      "Epoch 90/100\n",
      "10/10 [==============================] - 0s 2ms/step - loss: 7.1526e-09 - accuracy: 0.0800 - auc_3: 0.3121    \n",
      "Epoch 91/100\n",
      "10/10 [==============================] - 0s 1ms/step - loss: 2.3842e-09 - accuracy: 0.1000 - auc_3: 0.6633    \n",
      "Epoch 92/100\n",
      "10/10 [==============================] - 0s 2ms/step - loss: 2.3842e-09 - accuracy: 0.1000 - auc_3: 0.5714    \n",
      "Epoch 93/100\n",
      "10/10 [==============================] - 0s 1ms/step - loss: 7.1526e-09 - accuracy: 0.0600 - auc_3: 0.5957    \n",
      "Epoch 94/100\n",
      "10/10 [==============================] - 0s 1ms/step - loss: 7.1526e-09 - accuracy: 0.0800 - auc_3: 0.1383\n",
      "Epoch 95/100\n",
      "10/10 [==============================] - 0s 1ms/step - loss: 2.3842e-09 - accuracy: 0.0400 - auc_3: 0.8571    \n",
      "Epoch 96/100\n",
      "10/10 [==============================] - 0s 1ms/step - loss: 9.5367e-09 - accuracy: 0.1600 - auc_3: 0.5245\n",
      "Epoch 97/100\n",
      "10/10 [==============================] - 0s 2ms/step - loss: 4.7684e-09 - accuracy: 0.0800 - auc_3: 0.5104    \n",
      "Epoch 98/100\n",
      "10/10 [==============================] - 0s 2ms/step - loss: 1.1921e-08 - accuracy: 0.0800 - auc_3: 0.2311\n",
      "Epoch 99/100\n",
      "10/10 [==============================] - 0s 1ms/step - loss: 0.0000e+00 - accuracy: 0.0200 - auc_3: 0.0000e+00\n",
      "Epoch 100/100\n",
      "10/10 [==============================] - 0s 1ms/step - loss: 4.7684e-09 - accuracy: 0.1000 - auc_3: 0.4479    \n"
     ]
    },
    {
     "data": {
      "text/plain": [
       "<tensorflow.python.keras.callbacks.History at 0x7ff809186e10>"
      ]
     },
     "execution_count": 29,
     "metadata": {},
     "output_type": "execute_result"
    }
   ],
   "source": [
    "model.fit(train, epochs=100, steps_per_epoch=steps_per_epoch)"
   ]
  },
  {
   "cell_type": "markdown",
   "metadata": {},
   "source": [
    "TODO:\n",
    "* How to do cross-validation in automated fashion?\n",
    "* Incorporate test set, without it it is pointless. How to do it?\n",
    "* Run it on bigger dataset"
   ]
  }
 ],
 "metadata": {
  "kernelspec": {
   "display_name": "adclick",
   "language": "python",
   "name": "adclick"
  },
  "language_info": {
   "codemirror_mode": {
    "name": "ipython",
    "version": 3
   },
   "file_extension": ".py",
   "mimetype": "text/x-python",
   "name": "python",
   "nbconvert_exporter": "python",
   "pygments_lexer": "ipython3",
   "version": "3.6.9"
  }
 },
 "nbformat": 4,
 "nbformat_minor": 4
}
