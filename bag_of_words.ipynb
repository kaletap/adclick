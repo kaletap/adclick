{
 "cells": [
  {
   "cell_type": "code",
   "execution_count": 92,
   "metadata": {},
   "outputs": [],
   "source": [
    "import tensorflow as tf\n",
    "import tensorflow.keras.layers as layers\n",
    "import numpy as np\n",
    "import pandas as pd\n",
    "import matplotlib.pyplot as plt\n",
    "from tqdm.notebook import tqdm, trange\n",
    "from itertools import islice\n",
    "from collections import OrderedDict\n",
    "\n",
    "from preprocessing.numeric import *\n",
    "from preprocessing.tokens import *\n",
    "\n",
    "RANDOM_SEED = 2\n",
    "tf.random.set_seed(RANDOM_SEED)\n",
    "\n",
    "tf.__version__, tf.keras.__version__"
   ]
  },
  {
   "cell_type": "code",
   "execution_count": 104,
   "metadata": {},
   "outputs": [],
   "source": [
    "train = tf.data.experimental.make_csv_dataset(\"data/train_small.tsv\",\n",
    "                                           field_delim=\"\\t\",\n",
    "                                           batch_size=1_000,\n",
    "#                                            compression_type=\"GZIP\",\n",
    "                                           label_name=\"Click\",\n",
    "                                           num_epochs=1)\n",
    "\n",
    "test = tf.data.experimental.make_csv_dataset(\"data/test.tsv\",\n",
    "                                           field_delim=\"\\t\",\n",
    "                                           batch_size=10_000,\n",
    "                                           label_name=\"Click\",\n",
    "                                           num_epochs=1)\n",
    "\n",
    "NUMERIC_FEATURES = [\"Depth\", \"Position\", \"Gender\", \"Age\", \"UserID\", \"AdvertiserId\"]\n",
    "TOKENS_FEATURES = [\"AdKeyword_tokens\", \"AdTitle_tokens\", \"AdDescription_tokens\", \"Query_tokens\"]"
   ]
  },
  {
   "cell_type": "markdown",
   "metadata": {},
   "source": [
    "---\n",
    "#### Numeric features"
   ]
  },
  {
   "cell_type": "code",
   "execution_count": 105,
   "metadata": {},
   "outputs": [],
   "source": [
    "train = train\\\n",
    "    .map(PackNumericFeatures(NUMERIC_FEATURES), deterministic=True)\\\n",
    "    .map(Normalize(NUMERIC_FEATURES), deterministic=True)\n",
    "\n",
    "test = test\\\n",
    "    .map(PackNumericFeatures(NUMERIC_FEATURES), deterministic=True)\\\n",
    "    .map(Normalize(NUMERIC_FEATURES), deterministic=True)"
   ]
  },
  {
   "cell_type": "markdown",
   "metadata": {},
   "source": [
    "---\n",
    "#### Sequence of tokens features\n",
    "AdKeyword_tokens, AdTitle_tokens, AdDescription_tokens, Query_tokens\n",
    "\n",
    "Jak stworzyć słownik do modelu?"
   ]
  },
  {
   "cell_type": "code",
   "execution_count": 106,
   "metadata": {},
   "outputs": [],
   "source": [
    "n_words = 2_000\n",
    "max_length = 5\n",
    "\n",
    "train = train\\\n",
    "    .map(Tokenize(\"AdKeyword_tokens\", n_words, max_length), deterministic=True)\n",
    "\n",
    "test = test\\\n",
    "    .map(Tokenize(\"AdKeyword_tokens\", n_words, max_length), deterministic=True)"
   ]
  },
  {
   "cell_type": "markdown",
   "metadata": {},
   "source": [
    "---\n",
    "#### Model"
   ]
  },
  {
   "cell_type": "code",
   "execution_count": 107,
   "metadata": {},
   "outputs": [],
   "source": [
    "EMBEDDING_DIM = 12\n",
    "\n",
    "embedding_layer = tf.keras.layers.Embedding(input_dim=n_words, output_dim=EMBEDDING_DIM, mask_zero=False, input_length=max_length)\n",
    "\n",
    "x_num_input = tf.keras.Input(shape=(6, ), name=\"numeric\")\n",
    "x_num = tf.keras.layers.Dense(512, activation=\"relu\")(x_num_input)\n",
    "\n",
    "x_emb_input = tf.keras.Input(shape=(max_length), name=\"AdKeyword_tokens\")  # model doesn't work with ragged tensor\n",
    "x_emb = embedding_layer(x_emb_input)\n",
    "x_emb = tf.keras.layers.Lambda(lambda x: tf.reduce_mean(x, axis=1, keepdims=False, name=\"Average\"))(x_emb)\n",
    "\n",
    "x_emb = tf.keras.layers.Reshape([EMBEDDING_DIM])(x_emb)\n",
    "\n",
    "x = tf.keras.layers.Concatenate(axis=-1)([x_num, x_emb])\n",
    "\n",
    "feedforward = tf.keras.Sequential([\n",
    "    tf.keras.layers.Dense(256, activation=\"relu\"),\n",
    "    tf.keras.layers.Dense(1, activation=\"sigmoid\", name=\"prediction\"),\n",
    "])\n",
    "\n",
    "output = feedforward(x)\n",
    "\n",
    "model = tf.keras.Model(inputs=[x_num_input, x_emb_input], outputs=output, name=\"Adclick\")\n",
    "\n",
    "model.compile(\n",
    "    optimizer=tf.keras.optimizers.Adam(),\n",
    "    loss=tf.keras.losses.BinaryCrossentropy(),\n",
    "    metrics=[\"accuracy\", tf.keras.metrics.AUC(name=\"auc\")]\n",
    ")"
   ]
  },
  {
   "cell_type": "code",
   "execution_count": 108,
   "metadata": {},
   "outputs": [
    {
     "name": "stdout",
     "output_type": "stream",
     "text": [
      "Model: \"Adclick\"\n",
      "__________________________________________________________________________________________________\n",
      "Layer (type)                    Output Shape         Param #     Connected to                     \n",
      "==================================================================================================\n",
      "AdKeyword_tokens (InputLayer)   [(None, 5)]          0                                            \n",
      "__________________________________________________________________________________________________\n",
      "embedding_15 (Embedding)        (None, 5, 12)        24000       AdKeyword_tokens[0][0]           \n",
      "__________________________________________________________________________________________________\n",
      "numeric (InputLayer)            [(None, 6)]          0                                            \n",
      "__________________________________________________________________________________________________\n",
      "lambda_10 (Lambda)              (None, 12)           0           embedding_15[0][0]               \n",
      "__________________________________________________________________________________________________\n",
      "dense_30 (Dense)                (None, 512)          3584        numeric[0][0]                    \n",
      "__________________________________________________________________________________________________\n",
      "reshape_10 (Reshape)            (None, 12)           0           lambda_10[0][0]                  \n",
      "__________________________________________________________________________________________________\n",
      "concatenate_10 (Concatenate)    (None, 524)          0           dense_30[0][0]                   \n",
      "                                                                 reshape_10[0][0]                 \n",
      "__________________________________________________________________________________________________\n",
      "sequential_15 (Sequential)      (None, 1)            134657      concatenate_10[0][0]             \n",
      "==================================================================================================\n",
      "Total params: 162,241\n",
      "Trainable params: 162,241\n",
      "Non-trainable params: 0\n",
      "__________________________________________________________________________________________________\n"
     ]
    }
   ],
   "source": [
    "model.summary()"
   ]
  },
  {
   "cell_type": "code",
   "execution_count": 109,
   "metadata": {},
   "outputs": [
    {
     "data": {
      "image/png": "[encoded data removed]",
      "text/plain": [
       "<IPython.core.display.Image object>"
      ]
     },
     "execution_count": 109,
     "metadata": {},
     "output_type": "execute_result"
    }
   ],
   "source": [
    "tf.keras.utils.plot_model(model, expand_nested=True)"
   ]
  },
  {
   "cell_type": "code",
   "execution_count": 111,
   "metadata": {},
   "outputs": [
    {
     "name": "stdout",
     "output_type": "stream",
     "text": [
      "0\n",
      "\n",
      "Epoch 00001: LearningRateScheduler reducing learning rate to 0.1.\n",
      "Epoch 1/2\n",
      "100/100 [==============================] - 29s 291ms/step - loss: 0.1918 - accuracy: 0.9507 - auc: 0.6662 - val_loss: 0.1992 - val_accuracy: 0.9524 - val_auc: 0.6193 - lr: 0.1000\n",
      "1\n",
      "\n",
      "Epoch 00002: LearningRateScheduler reducing learning rate to 0.01.\n",
      "Epoch 2/2\n",
      "100/100 [==============================] - 30s 296ms/step - loss: 0.1775 - accuracy: 0.9509 - auc: 0.7429 - val_loss: 0.1981 - val_accuracy: 0.9523 - val_auc: 0.6212 - lr: 0.0100\n"
     ]
    }
   ],
   "source": [
    "def schedule(epoch, lr):\n",
    "    print(epoch)\n",
    "    if epoch == 0:\n",
    "        return 0.1\n",
    "    elif epoch == 1:\n",
    "        return 0.01\n",
    "    else:\n",
    "        return 0.001\n",
    "scheduler = tf.keras.callbacks.LearningRateScheduler(schedule, verbose=1)\n",
    "\n",
    "history = model.fit(train, validation_data=test, epochs=2, callbacks=[scheduler])"
   ]
  }
 ],
 "metadata": {
  "kernelspec": {
   "display_name": "Python 3",
   "language": "python",
   "name": "python3"
  },
  "language_info": {
   "codemirror_mode": {
    "name": "ipython",
    "version": 3
   },
   "file_extension": ".py",
   "mimetype": "text/x-python",
   "name": "python",
   "nbconvert_exporter": "python",
   "pygments_lexer": "ipython3",
   "version": "3.6.9"
  }
 },
 "nbformat": 4,
 "nbformat_minor": 4
}
